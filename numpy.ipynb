{
 "cells": [
  {
   "cell_type": "code",
   "execution_count": 14,
   "metadata": {},
   "outputs": [
    {
     "name": "stdout",
     "output_type": "stream",
     "text": [
      "<class 'numpy.ndarray'>\n",
      "============\n",
      "[['Year' 'WHO region' 'Country' 'Beverage Types' 'Display Value']\n",
      " ['1986' 'Western Pacific' 'Viet Nam' 'Wine' '0']\n",
      " ['1986' 'Americas' 'Uruguay' 'Other' '0.5']\n",
      " ...\n",
      " ['1987' 'Africa' 'Malawi' 'Other' '0.75']\n",
      " ['1989' 'Americas' 'Bahamas' 'Wine' '1.5']\n",
      " ['1985' 'Africa' 'Malawi' 'Spirits' '0.31']]\n",
      "============\n",
      "[['1986' 'Western Pacific' 'Viet Nam' 'Wine' '0']\n",
      " ['1986' 'Americas' 'Uruguay' 'Other' '0.5']]\n"
     ]
    }
   ],
   "source": [
    "# numpy各种方法\n",
    "import numpy as np\n",
    "\n",
    "# 1.从TXT文件中读取数据\n",
    "world_alcohol = np.genfromtxt(\"world_alcohol.txt\",delimiter=\",\",dtype=str)\n",
    "print(type(world_alcohol))\n",
    "print(\"============\")\n",
    "print(world_alcohol)\n",
    "print(\"============\")\n",
    "print(world_alcohol[1:3])\n",
    "# print(help(np.genfromtxt))"
   ]
  },
  {
   "cell_type": "code",
   "execution_count": 6,
   "metadata": {},
   "outputs": [
    {
     "name": "stdout",
     "output_type": "stream",
     "text": [
      "[ 5 10 15 20]\n",
      "\n",
      "[[ 5 10 15]\n",
      " [20 25 30]\n",
      " [35 40 45]]\n"
     ]
    }
   ],
   "source": [
    "import numpy as np\n",
    "# 2.numpy.array\n",
    "vector = np.array([5,10,15,20])\n",
    "matrix = np.array([[5,10,15],[20,25,30],[35,40,45]])\n",
    "print(vector,end = '\\n\\n')\n",
    "print(matrix)\n"
   ]
  },
  {
   "cell_type": "code",
   "execution_count": 15,
   "metadata": {},
   "outputs": [
    {
     "name": "stdout",
     "output_type": "stream",
     "text": [
      "(4,)\n",
      "============\n",
      "(3, 3)\n"
     ]
    }
   ],
   "source": [
    "import numpy as np\n",
    "# 3.shape表示结构\n",
    "vector = np.array([5,10,15,20])\n",
    "print(vector.shape)\n",
    "print(\"============\")\n",
    "matrix = np.array([[5,10,15],[20,25,30],[35,40,45]])\n",
    "print (matrix.shape)"
   ]
  },
  {
   "cell_type": "code",
   "execution_count": 16,
   "metadata": {},
   "outputs": [
    {
     "name": "stdout",
     "output_type": "stream",
     "text": [
      "[1 2 3 4]\n",
      "int32\n",
      "============\n",
      "[1. 2. 3. 4.]\n",
      "float64\n",
      "============\n",
      "['1' '2' '3' 'a']\n",
      "<U11\n"
     ]
    }
   ],
   "source": [
    "import numpy as np\n",
    "# numpy.array里面必须是相同的结构\n",
    "numbers = np.array([1,2,3,4])\n",
    "print(numbers)\n",
    "print(numbers.dtype)\n",
    "print(\"============\")\n",
    "numbers = np.array([1,2,3,4.0])\n",
    "print(numbers)\n",
    "print(numbers.dtype)\n",
    "print(\"============\")\n",
    "numbers = np.array([1,2,3,'a'])\n",
    "print(numbers)\n",
    "print(numbers.dtype)"
   ]
  },
  {
   "cell_type": "code",
   "execution_count": 19,
   "metadata": {},
   "outputs": [
    {
     "name": "stdout",
     "output_type": "stream",
     "text": [
      "[['Year' 'WHO region' 'Country' 'Beverage Types' 'Display Value']\n",
      " ['1986' 'Western Pacific' 'Viet Nam' 'Wine' '0']\n",
      " ['1986' 'Americas' 'Uruguay' 'Other' '0.5']\n",
      " ...\n",
      " ['1987' 'Africa' 'Malawi' 'Other' '0.75']\n",
      " ['1989' 'Americas' 'Bahamas' 'Wine' '1.5']\n",
      " ['1985' 'Africa' 'Malawi' 'Spirits' '0.31']]\n",
      "============\n",
      "1985\n",
      "============\n",
      "['Year' '1986' '1986']\n"
     ]
    }
   ],
   "source": [
    "import numpy as np\n",
    "# 取数组元素\n",
    "world_alcohol = np.genfromtxt(\"world_alcohol.txt\",delimiter=\",\",dtype=str)\n",
    "print(world_alcohol)\n",
    "select = world_alcohol[3][0]#select = world_alcohol[3,0]\n",
    "select1 = world_alcohol[0:3,0]\n",
    "print(\"============\")\n",
    "print(select)\n",
    "print(\"============\")\n",
    "print(select1)"
   ]
  },
  {
   "cell_type": "code",
   "execution_count": 22,
   "metadata": {},
   "outputs": [
    {
     "name": "stdout",
     "output_type": "stream",
     "text": [
      "[ 5 10 15]\n",
      "============\n",
      "[[ 5 10]\n",
      " [20 25]\n",
      " [35 40]\n",
      " [50 55]]\n",
      "============\n",
      "[[20 25]\n",
      " [35 40]]\n"
     ]
    }
   ],
   "source": [
    "import numpy as np\n",
    "# 切片\n",
    "vector = np.array([5,10,15,20])\n",
    "print(vector[0:3])\n",
    "print(\"============\")\n",
    "matrix = np.array([\n",
    "\t\t\t\t\t[5,10,15],\n",
    "\t\t\t\t\t[20,25,30],\n",
    "\t\t\t\t\t[35,40,45],\n",
    "\t\t\t\t\t[50,55,60]\n",
    "\t\t\t\t\t])\n",
    "print(matrix[:, 0:2])#打印每一行的前两个元素\n",
    "print(\"============\")\n",
    "print(matrix[1:3, 0:2])#第二行和第三行中前两个元素"
   ]
  },
  {
   "cell_type": "code",
   "execution_count": 81,
   "metadata": {},
   "outputs": [
    {
     "name": "stdout",
     "output_type": "stream",
     "text": [
      "[False  True False False]\n",
      "============\n",
      "[[False  True False]\n",
      " [False False False]\n",
      " [False False False]\n",
      " [False False False]]\n",
      "------------\n",
      "[10]\n",
      "============\n",
      "[False  True False False]\n",
      "============\n",
      "[[20 25 30]]\n"
     ]
    }
   ],
   "source": [
    "import numpy as np\n",
    "# array判断\n",
    "vector = np.array([5,10,15,20])\n",
    "print(vector == 10)  #相当于对每一个元素进行了操作\n",
    "print(\"============\")\n",
    "matrix = np.array([\n",
    "\t\t\t\t\t[5,10,15],\n",
    "\t\t\t\t\t[20,25,30],\n",
    "\t\t\t\t\t[35,40,45],\n",
    "\t\t\t\t\t[50,55,60]\n",
    "\t\t\t\t\t])\n",
    "print(matrix == 10)\n",
    "print(\"------------\")\n",
    "equal_to_ten = (vector == 10)\n",
    "print(vector[equal_to_ten])#bool类型作为索引\n",
    "print(\"============\")\n",
    "second_colum_25 = (matrix[:,1]==25)\n",
    "print(second_colum_25) #二维数组中 bool索引(行索引)\n",
    "print(\"============\")\n",
    "print(matrix[second_colum_25, :])\n"
   ]
  },
  {
   "cell_type": "code",
   "execution_count": 27,
   "metadata": {},
   "outputs": [
    {
     "name": "stdout",
     "output_type": "stream",
     "text": [
      "[False False False False]\n",
      "[ True  True False False]\n"
     ]
    }
   ],
   "source": [
    "import numpy as np\n",
    "# array与或判断\n",
    "vector = np.array([5,10,15,20])\n",
    "equal_to_ten_and_five = (vector == 10)&(vector ==5)#逐项比较\n",
    "print(equal_to_ten_and_five)\n",
    "print(\"------------\")\n",
    "equal_to_ten_and_five = (vector == 10)|(vector ==5)\n",
    "print(equal_to_ten_and_five) "
   ]
  },
  {
   "cell_type": "code",
   "execution_count": 30,
   "metadata": {},
   "outputs": [
    {
     "name": "stdout",
     "output_type": "stream",
     "text": [
      "<U1\n",
      "------------\n",
      "int32\n",
      "------------\n",
      "[1 2 3 4]\n"
     ]
    }
   ],
   "source": [
    "import numpy as np\n",
    "# 对二维数组改变其中的类型，astype\n",
    "vector = np.array([\"1\",\"2\",\"3\",\"4\"])\n",
    "print(vector.dtype)#<U1代表字符型\n",
    "print(\"------------\")\n",
    "vector = vector.astype(int)\n",
    "print(vector.dtype)\n",
    "print(\"------------\")\n",
    "print(vector)"
   ]
  },
  {
   "cell_type": "code",
   "execution_count": 35,
   "metadata": {},
   "outputs": [
    {
     "name": "stdout",
     "output_type": "stream",
     "text": [
      "5 \t 20\n",
      "------------\n",
      "390\n",
      "------------\n",
      "[ 30  75 120 165]\n",
      "============\n",
      "[110 130 150]\n",
      "60\n"
     ]
    }
   ],
   "source": [
    "import numpy as np\n",
    "# 对array求最小值和最大值min() and max() 求和等操作\n",
    "vector = np.array([5,10,15,20])\n",
    "print(vector.min(),'\\t',vector.max())\n",
    "print(\"------------\")\n",
    "# print(help(np.array)) #查找更多操作\n",
    "matrix = np.array([\n",
    "\t\t\t\t\t[5,10,15],\n",
    "\t\t\t\t\t[20,25,30],\n",
    "\t\t\t\t\t[35,40,45],\n",
    "\t\t\t\t\t[50,55,60]\n",
    "\t\t\t\t\t])\n",
    "print(matrix.sum())#全部求和\n",
    "print(\"------------\")\n",
    "print(matrix.sum(axis = 1))#指定维度求和（按行）\n",
    "print(\"============\")\n",
    "print(matrix.sum(axis = 0))#按列\n",
    "# print(help(np.sum))\n",
    "print(matrix.max())"
   ]
  },
  {
   "cell_type": "code",
   "execution_count": 43,
   "metadata": {},
   "outputs": [
    {
     "name": "stdout",
     "output_type": "stream",
     "text": [
      "[ 0  1  2  3  4  5  6  7  8  9 10 11 12 13 14]\n",
      "------------\n",
      "[[ 0  1  2  3  4]\n",
      " [ 5  6  7  8  9]\n",
      " [10 11 12 13 14]] \n",
      " (3, 5) \n",
      " int32\n",
      "============\n",
      "2\n",
      "------------\n",
      "15\n"
     ]
    }
   ],
   "source": [
    "import numpy as np\n",
    "# 初始化矩阵\n",
    "print(np.arange(15))\n",
    "print(\"------------\")\n",
    "a = np.arange(15).reshape(3,5)\n",
    "print(a,\"\\n\",a.shape,\"\\n\",a.dtype)\n",
    "print(\"============\")\n",
    "print(a.ndim)#维度\n",
    "print(\"------------\")\n",
    "print(a.size)#元素个数\n"
   ]
  },
  {
   "cell_type": "code",
   "execution_count": 45,
   "metadata": {},
   "outputs": [
    {
     "name": "stdout",
     "output_type": "stream",
     "text": [
      "[[0. 0. 0. 0.]\n",
      " [0. 0. 0. 0.]\n",
      " [0. 0. 0. 0.]]\n",
      "============\n",
      "[[[1 1 1 1]\n",
      "  [1 1 1 1]\n",
      "  [1 1 1 1]]\n",
      "\n",
      " [[1 1 1 1]\n",
      "  [1 1 1 1]\n",
      "  [1 1 1 1]]]\n",
      "------------\n",
      "[ 1  6 11 16]\n",
      "============\n"
     ]
    },
    {
     "data": {
      "text/plain": [
       "array([[ 0,  1,  2,  3],\n",
       "       [ 4,  5,  6,  7],\n",
       "       [ 8,  9, 10, 11]])"
      ]
     },
     "execution_count": 45,
     "metadata": {},
     "output_type": "execute_result"
    }
   ],
   "source": [
    "import numpy as np\n",
    "b = np.zeros([3,4])    #b = np.zeros((3,4))也对\n",
    "print(b)\n",
    "print(\"============\")\n",
    "print(np.ones((2,3,4),dtype = np.int))\n",
    "print(\"------------\")\n",
    "print(np.arange(1,20,5))\n",
    "print(\"============\")\n",
    "np.arange(12).reshape(3,4)"
   ]
  },
  {
   "cell_type": "code",
   "execution_count": 48,
   "metadata": {},
   "outputs": [
    {
     "name": "stdout",
     "output_type": "stream",
     "text": [
      "[[0.43946784 0.21771752 0.47420368]\n",
      " [0.19458951 0.64099753 0.34668523]]\n",
      "************\n",
      "[ 0.   2.5  5.   7.5 10. ]\n",
      "************\n",
      "[ 0.          0.59847214 -0.95892427  0.93799998 -0.54402111]\n",
      "10.0\n"
     ]
    }
   ],
   "source": [
    "import numpy as np\n",
    "# random初始化\n",
    "c = np.random.random((2,3))\n",
    "c = np.random.random([2,3])\n",
    "print(c)\n",
    "print(\"************\")\n",
    "# linespace均匀取值\n",
    "d = np.linspace(0,10,5)#0-10之间均匀取5个数\n",
    "print(d)\n",
    "print(\"************\")\n",
    "print(np.sin(d))\n",
    "print(d.max())"
   ]
  },
  {
   "cell_type": "code",
   "execution_count": 54,
   "metadata": {},
   "outputs": [
    {
     "name": "stdout",
     "output_type": "stream",
     "text": [
      "[20 30 40 50]\n",
      "------------\n",
      "[0 1 2 3]\n",
      "------------\n",
      "[20 29 38 47]\n",
      "************\n",
      "[19 28 37 46]\n",
      "************\n",
      "[0 1 2 3] [0 1 4 9]\n",
      "************\n",
      "[3 2 1 0]\n",
      "[ True False False False]\n"
     ]
    },
    {
     "data": {
      "text/plain": [
       "array([-3, -4, -1, -2], dtype=int32)"
      ]
     },
     "execution_count": 54,
     "metadata": {},
     "output_type": "execute_result"
    }
   ],
   "source": [
    "import numpy as np\n",
    "# 数学运算\n",
    "a = np.arange(20,60,10)#20-59之间，间隔为10\n",
    "print(a)\n",
    "print(\"------------\")\n",
    "b = np.arange(4)\n",
    "print(b)\n",
    "c = a-b\n",
    "print(\"------------\")\n",
    "print(c)\n",
    "print(\"************\")\n",
    "print(c-1) #每个位置减一\n",
    "print(\"************\")\n",
    "print(b,b**2)\n",
    "print(\"************\")\n",
    "print(b^3)#循环列表位移左\n",
    "print(a<30)\n",
    "b^(-3)"
   ]
  },
  {
   "cell_type": "code",
   "execution_count": 56,
   "metadata": {},
   "outputs": [
    {
     "name": "stdout",
     "output_type": "stream",
     "text": [
      "[[1 1]\n",
      " [0 1]] \n",
      " ------\n",
      "[[2 0]\n",
      " [3 4]] \n",
      " ------\n",
      "[[2 0]\n",
      " [0 4]]\n",
      "************\n",
      "[[5 4]\n",
      " [3 4]] \n",
      " ------ \n",
      " [[5 4]\n",
      " [3 4]]\n",
      "************\n",
      "[0 1 2]\n",
      "------------\n",
      "[1.         2.71828183 7.3890561 ]\n",
      "------------\n",
      "[0.         1.         1.41421356]\n"
     ]
    }
   ],
   "source": [
    "import numpy as np\n",
    "A = np.array([\n",
    "\t\t\t[1,1],\n",
    "\t\t\t[0,1],\n",
    "\t\t\t])\n",
    "B = np.array([\n",
    "\t\t\t[2,0],\n",
    "\t\t\t[3,4],\n",
    "\t\t\t])\n",
    "print(A,'\\n',\"------\")\n",
    "print(B,\"\\n\",\"------\")\n",
    "print(A*B)#对应相乘\n",
    "print(\"************\")\n",
    "#矩阵相乘两种方法\n",
    "print(A.dot(B),\"\\n\",\"------\",\"\\n\",np.dot(A,B))\n",
    "B = np.arange(3)\n",
    "print(\"************\")\n",
    "print(B)\n",
    "print(\"------------\")\n",
    "print(np.exp(B))\n",
    "print(\"------------\")\n",
    "print(np.sqrt(B))"
   ]
  },
  {
   "cell_type": "code",
   "execution_count": 60,
   "metadata": {},
   "outputs": [
    {
     "name": "stdout",
     "output_type": "stream",
     "text": [
      "[[6.42015343 3.85971727 3.47844461 4.86723979]\n",
      " [1.0684956  9.75250052 6.72307876 1.4215391 ]\n",
      " [0.15998351 9.15020983 5.06060233 5.51877311]]\n",
      "[[64. 38. 34. 48.]\n",
      " [10. 97. 67. 14.]\n",
      " [ 1. 91. 50. 55.]]\n",
      "--------\n",
      "[64. 38. 34. 48. 10. 97. 67. 14.  1. 91. 50. 55.]\n",
      "------------------\n",
      "[[64. 38.]\n",
      " [34. 48.]\n",
      " [10. 97.]\n",
      " [67. 14.]\n",
      " [ 1. 91.]\n",
      " [50. 55.]]\n",
      "-------------------\n",
      "[[64. 38. 34.]\n",
      " [48. 10. 97.]\n",
      " [67. 14.  1.]\n",
      " [91. 50. 55.]]\n",
      "--------\n",
      "[[64. 34. 10. 67.  1. 50.]\n",
      " [38. 48. 97. 14. 91. 55.]]\n"
     ]
    }
   ],
   "source": [
    "import numpy as np\n",
    "# floor向下取整\n",
    "b = 10*np.random.random((3,4))\n",
    "print(b)\n",
    "a = np.floor(10*b)\n",
    "print(a)\n",
    "print('--------')\n",
    "print(a.ravel())#把矩阵拉成一维向量\n",
    "print('------------------')\n",
    "a.shape = (6,2)\n",
    "b = a.reshape(4,3)\n",
    "print(a)\n",
    "print('-------------------')\n",
    "print(b)\n",
    "print('--------')\n",
    "print(a.T)#转置操作"
   ]
  },
  {
   "cell_type": "code",
   "execution_count": 62,
   "metadata": {},
   "outputs": [
    {
     "name": "stdout",
     "output_type": "stream",
     "text": [
      "[[2. 4.]\n",
      " [2. 0.]]\n",
      "--------\n",
      "[[6. 2.]\n",
      " [5. 9.]]\n",
      "------------------\n",
      "[[2. 4. 6. 2.]\n",
      " [2. 0. 5. 9.]]\n",
      "------------------\n",
      "[[2. 4.]\n",
      " [2. 0.]\n",
      " [6. 2.]\n",
      " [5. 9.]]\n"
     ]
    }
   ],
   "source": [
    "import numpy as np\n",
    "# 矩阵拼接\n",
    "a = np.floor(10*np.random.random((2,2)))\n",
    "b = np.floor(10*np.random.random((2,2)))\n",
    "print(a)\n",
    "print('--------')\n",
    "print(b)\n",
    "print('------------------')\n",
    "c = np.hstack((a,b))#横着拼接\n",
    "d = np.vstack((a,b))#竖着拼接\n",
    "print(c)\n",
    "print('------------------')\n",
    "print(d)"
   ]
  },
  {
   "cell_type": "code",
   "execution_count": 64,
   "metadata": {},
   "outputs": [
    {
     "name": "stdout",
     "output_type": "stream",
     "text": [
      "[[8. 8. 5. 2. 2. 8. 7. 5. 6. 0. 0. 6.]\n",
      " [8. 9. 6. 1. 7. 5. 6. 9. 9. 1. 6. 5.]]\n",
      "--------\n",
      "[array([[8., 8., 5., 2.],\n",
      "       [8., 9., 6., 1.]]), array([[2., 8., 7., 5.],\n",
      "       [7., 5., 6., 9.]]), array([[6., 0., 0., 6.],\n",
      "       [9., 1., 6., 5.]])]\n",
      "----------------\n",
      "[array([[8., 8., 5.],\n",
      "       [8., 9., 6.]]), array([[2., 2.],\n",
      "       [1., 7.]]), array([[8., 7., 5., 6., 0., 0., 6.],\n",
      "       [5., 6., 9., 9., 1., 6., 5.]])]\n",
      "--------\n",
      "[[8. 8.]\n",
      " [8. 9.]\n",
      " [5. 6.]\n",
      " [2. 1.]\n",
      " [2. 7.]\n",
      " [8. 5.]\n",
      " [7. 6.]\n",
      " [5. 9.]\n",
      " [6. 9.]\n",
      " [0. 1.]\n",
      " [0. 6.]\n",
      " [6. 5.]]\n",
      "-----------------\n",
      "[array([[8., 8.],\n",
      "       [8., 9.],\n",
      "       [5., 6.]]), array([[2., 1.],\n",
      "       [2., 7.],\n",
      "       [8., 5.]]), array([[7., 6.],\n",
      "       [5., 9.],\n",
      "       [6., 9.]]), array([[0., 1.],\n",
      "       [0., 6.],\n",
      "       [6., 5.]])]\n",
      "--------\n",
      "[array([[8., 8.],\n",
      "       [8., 9.]]), array([[5., 6.],\n",
      "       [2., 1.],\n",
      "       [2., 7.],\n",
      "       [8., 5.]]), array([[7., 6.],\n",
      "       [5., 9.],\n",
      "       [6., 9.],\n",
      "       [0., 1.],\n",
      "       [0., 6.],\n",
      "       [6., 5.]])]\n"
     ]
    }
   ],
   "source": [
    "import numpy as np\n",
    "# 矩阵分割\n",
    "a = np.floor(10*np.random.random((2,12)))\n",
    "print(a)\n",
    "print('--------')\n",
    "print(np.hsplit(a,3))#均等切分成三份\n",
    "print('----------------')\n",
    "print(np.hsplit(a,(3,5)))#指定切分位置\n",
    "print('--------')\n",
    "a = a.T\n",
    "print(a)\n",
    "print('-----------------')\n",
    "print(np.vsplit(a,4))\n",
    "print('--------')\n",
    "print(np.vsplit(a,(2,6)))"
   ]
  },
  {
   "cell_type": "code",
   "execution_count": 65,
   "metadata": {},
   "outputs": [
    {
     "name": "stdout",
     "output_type": "stream",
     "text": [
      "True\n",
      "(12,)\n",
      "[[ 0  1  2  3]\n",
      " [ 4  5  6  7]\n",
      " [ 8  9 10 11]] 2729189640032\n",
      "--------\n",
      "[[ 0  1  2  3]\n",
      " [ 4  5  6  7]\n",
      " [ 8  9 10 11]] 2729189640032\n"
     ]
    }
   ],
   "source": [
    "import numpy as np\n",
    "# 复制操作，3种方法，等号赋值\n",
    "a = np.arange(12)\n",
    "#浅拷贝\n",
    "b = a \t\t\t\n",
    "print(b is a)\n",
    "print(b.shape)\n",
    "b.shape = (3,4)\n",
    "print(a,id(a))\n",
    "print('--------')\n",
    "print(b,id(b))"
   ]
  },
  {
   "cell_type": "code",
   "execution_count": 69,
   "metadata": {},
   "outputs": [
    {
     "name": "stdout",
     "output_type": "stream",
     "text": [
      "False\n",
      "========\n",
      "(12,)\n",
      "2729189818976 2729189819536\n",
      "[ 0  1  2  3  4  5  6  7  8  9 10 11]\n",
      "--------\n",
      "[[ 0  1  2  3  4  5]\n",
      " [ 6  7  8  9 10 11]]\n",
      "========\n",
      "[  0   1   2   3   4   5   6   7   8 100  10  11]\n"
     ]
    }
   ],
   "source": [
    "import numpy as np\n",
    "#深拷贝,也不完全是深拷贝view()\n",
    "a = np.arange(12)\n",
    "c = a.view()\n",
    "print(c is a)\n",
    "print('========')\n",
    "c.shape = (2,6)\n",
    "print(a.shape)#改变c,a不变\n",
    "print(id(a),id(c))\n",
    "print(a)\n",
    "print('--------')\n",
    "print(c)\n",
    "c[1][3] = 100 #c[1][3]对应的元素为9\n",
    "#a对应的元素9也变成100\n",
    "#虽然指向的地址空间不同，但共用一套值\n",
    "print('========')\n",
    "print(a) "
   ]
  },
  {
   "cell_type": "code",
   "execution_count": 75,
   "metadata": {},
   "outputs": [
    {
     "name": "stdout",
     "output_type": "stream",
     "text": [
      "[[ 0  1  2  3]\n",
      " [ 4  5  6  7]\n",
      " [ 8  9 10 11]]\n",
      "--------\n",
      " 2729189821776 \n",
      " 2729189820816\n",
      "--------\n",
      "[[1111    1    2    3]\n",
      " [   4    5    6    7]\n",
      " [   8    9   10   11]]\n",
      "========\n",
      "[[ 0  1  2  3]\n",
      " [ 4  5  6  7]\n",
      " [ 8  9 10 11]]\n"
     ]
    }
   ],
   "source": [
    "import numpy as np\n",
    "# 真正的深拷贝copy()\n",
    "a1 = np.arange(12)\n",
    "a1.shape = (3,4)\n",
    "d = a1.copy()\n",
    "print(d) \n",
    "print('--------')\n",
    "print(\"\",id(a1),\"\\n\",id(d))\n",
    "print('--------')\n",
    "d[0,0] = 1111\n",
    "print(d)\n",
    "print('========')\n",
    "print(a1)"
   ]
  },
  {
   "cell_type": "code",
   "execution_count": 87,
   "metadata": {},
   "outputs": [
    {
     "name": "stdout",
     "output_type": "stream",
     "text": [
      "[[0.68526153 0.10826298 0.77708424 0.00506549]\n",
      " [0.72857183 0.23445447 0.58685091 0.15961249]\n",
      " [0.62407403 0.82797779 0.23882508 0.67638185]\n",
      " [0.78694161 0.27191653 0.6514673  0.45961812]\n",
      " [0.59849338 0.44711297 0.18071968 0.07460788]]\n",
      "========\n",
      "[3 2 0 2]\n",
      "[0.78694161 0.82797779 0.77708424 0.67638185]\n",
      "========\n",
      "[2 0 1 0 0]\n",
      "[0.00506549 0.58685091 0.62407403 0.6514673 ]\n"
     ]
    }
   ],
   "source": [
    "import numpy as np\n",
    "# argmax\n",
    "data = np.sin(np.random.random(20)).reshape(5,4)\n",
    "print(data)\n",
    "print('========')\n",
    "index = data.argmax(axis=0)#函数取得最大值所对应的变量x\n",
    "print(index)\n",
    "\n",
    "data_max = data[index,range(data.shape[1])]#*********\n",
    "print(data_max)\n",
    "print('========')\n",
    "\n",
    "index1 = data.argmax(axis=1)\n",
    "print(index1)\n",
    "data_max1 = data[range(data.shape[1]),index]\n",
    "print(data_max1)"
   ]
  },
  {
   "cell_type": "code",
   "execution_count": 89,
   "metadata": {},
   "outputs": [
    {
     "name": "stdout",
     "output_type": "stream",
     "text": [
      "[ 0 10 20 30]\n",
      "-----------\n",
      "[[ 0 10 20 30  0 10 20 30  0 10 20 30]\n",
      " [ 0 10 20 30  0 10 20 30  0 10 20 30]]\n"
     ]
    }
   ],
   "source": [
    "import numpy as np\n",
    "# tile\n",
    "a = np.arange(0,40,10)\n",
    "print(a)\n",
    "print(\"-----------\")\n",
    "b = np.tile(a,(2,3))#ndrray扩展操作n倍\n",
    "print(b)"
   ]
  },
  {
   "cell_type": "code",
   "execution_count": 90,
   "metadata": {},
   "outputs": [
    {
     "name": "stdout",
     "output_type": "stream",
     "text": [
      "[[4 3 5]\n",
      " [1 2 1]]\n",
      "========\n",
      "[[3 4 5]\n",
      " [1 1 2]]\n",
      "========\n",
      "[[3 4 5]\n",
      " [1 1 2]]\n",
      "========\n",
      "[2 1 3 0]\n",
      "========\n",
      "[1 2 3 4]\n"
     ]
    }
   ],
   "source": [
    "import numpy as np\n",
    "# 排序sort\n",
    "a = np.array([\n",
    "\t\t\t[4,3,5],\n",
    "\t\t\t[1,2,1]\n",
    "\t\t\t])\n",
    "print(a)\n",
    "print('========')\n",
    "b = np.sort(a,axis=1)#按行排序\n",
    "print(b)\n",
    "print('========')\n",
    "a.sort()#默认按行排序\n",
    "print(a)\n",
    "print('========')\n",
    "\n",
    "c = np.array([4,2,1,3])\n",
    "d = np.argsort(c)#最小值索引\n",
    "print(d)\n",
    "print('========')\n",
    "print(c[d])"
   ]
  },
  {
   "cell_type": "code",
   "execution_count": null,
   "metadata": {},
   "outputs": [],
   "source": []
  }
 ],
 "metadata": {
  "kernelspec": {
   "display_name": "Python 3",
   "language": "python",
   "name": "python3"
  },
  "language_info": {
   "codemirror_mode": {
    "name": "ipython",
    "version": 3
   },
   "file_extension": ".py",
   "mimetype": "text/x-python",
   "name": "python",
   "nbconvert_exporter": "python",
   "pygments_lexer": "ipython3",
   "version": "3.6.6"
  }
 },
 "nbformat": 4,
 "nbformat_minor": 2
}
